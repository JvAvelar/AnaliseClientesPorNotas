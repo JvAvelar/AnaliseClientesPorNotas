{
 "cells": [
  {
   "cell_type": "markdown",
   "id": "e9e7bee8",
   "metadata": {},
   "source": [
    "# Análise de Dados com Python\n",
    "\n",
    "### Desafio:\n",
    "\n",
    "Você trabalha em uma empresa do varejo e tem milhares de clientes diferentes.\n",
    "\n",
    "Com o objetivo de aumentar o faturamento e o lucro da sua empresa, a diretoria quer conseguir identificar quem é o cliente ideal para seus produtos, baseado no histórico de compras dos clientes.\n",
    "\n",
    "Para isso, ela fez um trabalho de classificar os clientes com uma nota de 1 a 100. Só que agora, sobrou para você conseguir, a partir dessa nota, descobrir qual o perfil de cliente ideal da empresa.\n",
    "\n",
    "Qual a profissão? Qual a idade? Qual a faixa de renda? E todas as informações que você puder analisar para dizer qual o cliente ideal da empresa.\n",
    "\n",
    "Base de Dados: https://drive.google.com/drive/folders/1T7D0BlWkNuy_MDpUHuBG44kT80EmRYIs?usp=share_link"
   ]
  },
  {
   "cell_type": "code",
   "execution_count": null,
   "id": "3b79c8b2",
   "metadata": {
    "scrolled": false
   },
   "outputs": [],
   "source": [
    "import pandas as pd\n",
    "import plotly.express as px\n",
    "\n",
    "tabela = pd.read_csv('clientes.csv', sep=';', encoding='latin1')\n",
    "\n",
    "tabela = tabela.drop('Unnamed: 8', axis=1)\n",
    "tabela['Salário Anual (R$)'] = pd.to_numeric(tabela['Salário Anual (R$)'], errors='coerce')\n",
    "tabela = tabela.dropna() \n",
    "\n",
    "\n",
    "display(tabela)\n",
    "display(tabela.describe())"
   ]
  },
  {
   "cell_type": "code",
   "execution_count": null,
   "id": "41821c81",
   "metadata": {
    "scrolled": false
   },
   "outputs": [],
   "source": [
    "for coluna in tabela.columns:\n",
    "    grafico = px.histogram(tabela, x=coluna, y='Nota (1-100)', histfunc='avg', text_auto=True, nbins=10)\n",
    "    grafico.show()"
   ]
  },
  {
   "cell_type": "raw",
   "id": "9b66fd0a",
   "metadata": {},
   "source": [
    "Perfil ideal de Clientes:\n",
    "    -Áreas de trabalho dos Clientes Ideal: Entretenimento e Artista (evitar Construção)\n",
    "    -Clientes acima de 10 anos de idade\n",
    "    -Clientes que tem entre 10 a 15 anos de experiência de trabalho. (com destaque nos que tem entre 14 e 15 anos)\n",
    "    -Famílias de até 7 pessoas no máximo\n",
    "\n",
    "Obs final:\n",
    "    -O salário não parece fazer muita diferença\n",
    "    -Clientes que compram normal tendem a voltar mais vezes que clientes que compram em promoções\n",
    "    -Profissionais de construção DEVEM ser evitados"
   ]
  },
  {
   "cell_type": "code",
   "execution_count": null,
   "id": "b7a12455",
   "metadata": {},
   "outputs": [],
   "source": []
  }
 ],
 "metadata": {
  "kernelspec": {
   "display_name": "Python 3 (ipykernel)",
   "language": "python",
   "name": "python3"
  },
  "language_info": {
   "codemirror_mode": {
    "name": "ipython",
    "version": 3
   },
   "file_extension": ".py",
   "mimetype": "text/x-python",
   "name": "python",
   "nbconvert_exporter": "python",
   "pygments_lexer": "ipython3",
   "version": "3.10.9"
  }
 },
 "nbformat": 4,
 "nbformat_minor": 5
}
